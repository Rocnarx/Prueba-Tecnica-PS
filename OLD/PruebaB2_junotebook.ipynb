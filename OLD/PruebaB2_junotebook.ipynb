{
 "cells": [
  {
   "cell_type": "markdown",
   "metadata": {},
   "source": [
    "# I start by importing what I need"
   ]
  },
  {
   "cell_type": "code",
   "execution_count": 5,
   "metadata": {},
   "outputs": [],
   "source": [
    "from datetime import datetime\n",
    "import pandas as pd\n",
    "import numpy as np\n",
    "import json\n"
   ]
  },
  {
   "cell_type": "markdown",
   "metadata": {},
   "source": [
    "# Test products and test buyers"
   ]
  },
  {
   "cell_type": "code",
   "execution_count": 6,
   "metadata": {},
   "outputs": [],
   "source": [
    "# with open(\"assets/products.json\", \"r\", encoding='utf-8') as file:\n",
    "#         products = json.load(file)\n",
    "\n",
    "# with open(\"assets/buyers.json\", \"r\", encoding='utf-8') as file:\n",
    "#         buyers = json.load(file)\n",
    "# df_products = pd.DataFrame(products)"
   ]
  },
  {
   "cell_type": "code",
   "execution_count": 7,
   "metadata": {},
   "outputs": [],
   "source": [
    "products = [\n",
    "    {\"codigo\": \"JO-001\", \"nombre\": \"Chocolate Amargo\", \"tipo\": \"dulce\", \"valor\": 500},\n",
    "    {\"codigo\": \"JO-002\", \"nombre\": \"Gomitas\", \"tipo\": \"dulce\", \"valor\": 300},\n",
    "    {\"codigo\": \"JO-003\", \"nombre\": \"Caramelo\", \"tipo\": \"dulce\", \"valor\": 200},\n",
    "    {\"codigo\": \"JO-004\", \"nombre\": \"Chicle Menta\", \"tipo\": \"dulce\", \"valor\": 100},\n",
    "    {\"codigo\": \"JO-005\", \"nombre\": \"Agua Mineral\", \"tipo\": \"bebida\", \"valor\": 1600},\n",
    "    {\"codigo\": \"JO-006\", \"nombre\": \"Papas Fritas\", \"tipo\": \"snack\", \"valor\": 1200},\n",
    "    {\"codigo\": \"JO-007\", \"nombre\": \"Gaseosa\", \"tipo\": \"bebida\", \"valor\": 2500},\n",
    "    {\"codigo\": \"JO-008\", \"nombre\": \"Maní Salado\", \"tipo\": \"snack\", \"valor\": 500}\n",
    "  ]\n",
    "  \n",
    "\n",
    "buyers =  [\n",
    "    {\n",
    "      \"nombre\": \"José\",\n",
    "      \"fecha\": \"2024-10-01\",\n",
    "      \"compras\": [\n",
    "        {\"codigo\": \"JO-001\", \"cantidad\": 4},\n",
    "        {\"codigo\": \"JO-002\", \"cantidad\": 1}\n",
    "      ]\n",
    "    },\n",
    "    {\n",
    "      \"nombre\": \"Ana López\",\n",
    "      \"fecha\": \"2024-10-02\",\n",
    "      \"compras\": [\n",
    "        {\"codigo\": \"JO-003\", \"cantidad\": 10},\n",
    "        {\"codigo\": \"JO-005\", \"cantidad\": 1}\n",
    "      ]\n",
    "    }\n",
    "  ]\n",
    "\n",
    "df_products = pd.DataFrame(products)"
   ]
  },
  {
   "cell_type": "markdown",
   "metadata": {},
   "source": [
    "# Transform data to create DF since we have multiple records of buyers\n"
   ]
  },
  {
   "cell_type": "code",
   "execution_count": 8,
   "metadata": {},
   "outputs": [
    {
     "name": "stdout",
     "output_type": "stream",
     "text": [
      "      nombre       fecha  codigo  cantidad\n",
      "0       José  2024-10-01  JO-001         4\n",
      "1       José  2024-10-01  JO-002         1\n",
      "2  Ana López  2024-10-02  JO-003        10\n",
      "3  Ana López  2024-10-02  JO-005         1\n"
     ]
    }
   ],
   "source": [
    "buyer_data = []\n",
    "for buyer in buyers:\n",
    "    for buy in buyer[\"compras\"]:\n",
    "        buyer_data.append({\n",
    "            \"nombre\": buyer[\"nombre\"],\n",
    "            \"fecha\": buyer[\"fecha\"],\n",
    "            \"codigo\": buy[\"codigo\"],\n",
    "            \"cantidad\": buy[\"cantidad\"]\n",
    "        })\n",
    "\n",
    "df_buyers = pd.DataFrame(buyer_data)\n",
    "print(df_buyers)"
   ]
  },
  {
   "cell_type": "markdown",
   "metadata": {},
   "source": [
    "# Get total and refactor to datetime so we can use \"Weeks\""
   ]
  },
  {
   "cell_type": "code",
   "execution_count": 9,
   "metadata": {},
   "outputs": [
    {
     "name": "stdout",
     "output_type": "stream",
     "text": [
      "      nombre      fecha  codigo  cantidad   total  week\n",
      "0       José 2024-10-01  JO-001         4  2000.0    40\n",
      "1       José 2024-10-01  JO-002         1   300.0    40\n",
      "2  Ana López 2024-10-02  JO-003        10  2000.0    40\n",
      "3  Ana López 2024-10-02  JO-005         1  1600.0    40\n"
     ]
    }
   ],
   "source": [
    "df_buyers_transform = df_buyers\n",
    "for index, row in df_buyers_transform.iterrows():\n",
    "    value_product = df_products[df_products[\"codigo\"] == row[\"codigo\"]][\"valor\"].values[0]\n",
    "    df_buyers_transform.loc[index, 'total'] = row[\"cantidad\"] * value_product\n",
    "    #df_buyers_transform.loc[index, 'codigo'] = df_products[df_products[\"codigo\"] == row[\"codigo\"]][\"nombre\"].values[0]\n",
    "    \n",
    "#df_buyers_transform.rename(columns={'codigo' : 'compra'}, inplace=True)\n",
    "df_buyers_transform['fecha'] = pd.to_datetime(df_buyers_transform['fecha'])\n",
    "df_buyers_transform['week'] = df_buyers_transform['fecha'].dt.isocalendar().week\n",
    "weeks = df_buyers_transform['week'].unique()\n",
    "print(df_buyers)"
   ]
  },
  {
   "cell_type": "markdown",
   "metadata": {},
   "source": [
    "# Create top 3 per week"
   ]
  },
  {
   "cell_type": "code",
   "execution_count": 10,
   "metadata": {},
   "outputs": [],
   "source": [
    "top3Week = []\n",
    "\n",
    "for week in weeks:\n",
    "    df_semana = df_buyers_transform[df_buyers_transform['week'] == week]\n",
    "\n",
    "    buyersdf = df_semana[df_semana['nombre'].notnull()].groupby('nombre')['total'].sum().reset_index()\n",
    "    buyersdf_top3 = buyersdf.sort_values(by='total', ascending=False).head(3)\n",
    "    buyersdf_list = [{'nombre': row['nombre'], 'total': row['total']} for _, row in buyersdf_top3.iterrows()]\n",
    "\n",
    "    items = df_semana.groupby('codigo')['total'].sum().reset_index()\n",
    "    items_top3 = items.sort_values(by='total', ascending=False).head(3)\n",
    "    items_list = [{'codigo': row['codigo'], 'total': row['total']} for _, row in items_top3.iterrows()]\n",
    "\n",
    "    top3Week.append({\n",
    "        'semana': week,\n",
    "        'compradores': buyersdf_list,\n",
    "        'articulos': items_list\n",
    "    })"
   ]
  },
  {
   "cell_type": "markdown",
   "metadata": {},
   "source": [
    "# Create top per day"
   ]
  },
  {
   "cell_type": "code",
   "execution_count": 11,
   "metadata": {},
   "outputs": [],
   "source": [
    "TopDay = []\n",
    "dates = df_buyers_transform['fecha'].unique()\n",
    "\n",
    "for date in dates:\n",
    "    # Eliminar datos null\n",
    "    df_day = df_buyers_transform[df_buyers_transform['fecha'] == date].dropna(subset=['nombre', 'total'])\n",
    "    \n",
    "    # Verificar si hay datos que sean valid0s\n",
    "    if df_day.empty:\n",
    "        continue\n",
    "    \n",
    "    topbuyer = df_day.groupby('nombre')['total'].sum().reset_index().sort_values(by='total', ascending=False).iloc[0]\n",
    "    namebuyer = topbuyer['nombre']\n",
    "    \n",
    "    dfbuyers = df_day[df_day['nombre'] == namebuyer].dropna(subset=['cantidad'])\n",
    "    \n",
    "    df_dulces = dfbuyers.merge(df_products[df_products['tipo'] == 'dulce'], on='codigo', how='inner')\n",
    "    if not df_dulces.empty:\n",
    "        dulce_max = df_dulces.sort_values(by='cantidad', ascending=False).iloc[0]['nombre_y']\n",
    "    else:\n",
    "        dulce_max = None \n",
    "    \n",
    "    TopDay.append({\n",
    "        'fecha': date,\n",
    "        'comprador': namebuyer,\n",
    "        'dulce': dulce_max\n",
    "    })\n",
    "\n",
    "for day in TopDay:\n",
    "    day['fecha'] = pd.to_datetime(day['fecha']).strftime('%Y-%m-%d')\n",
    "for week in top3Week:\n",
    "    week['semana'] = int(week['semana'])\n",
    "resultado = [\n",
    "    {'porDia': TopDay},\n",
    "    {'porSemana': top3Week}\n",
    "]\n",
    "\n"
   ]
  },
  {
   "cell_type": "code",
   "execution_count": 12,
   "metadata": {},
   "outputs": [
    {
     "data": {
      "text/plain": [
       "[{'porDia': [{'fecha': '2024-10-01',\n",
       "    'comprador': 'José',\n",
       "    'dulce': 'Chocolate Amargo'},\n",
       "   {'fecha': '2024-10-02', 'comprador': 'Ana López', 'dulce': 'Caramelo'}]},\n",
       " {'porSemana': [{'semana': 40,\n",
       "    'compradores': [{'nombre': 'Ana López', 'total': 3600.0},\n",
       "     {'nombre': 'José', 'total': 2300.0}],\n",
       "    'articulos': [{'codigo': 'JO-001', 'total': 2000.0},\n",
       "     {'codigo': 'JO-003', 'total': 2000.0},\n",
       "     {'codigo': 'JO-005', 'total': 1600.0}]}]}]"
      ]
     },
     "execution_count": 12,
     "metadata": {},
     "output_type": "execute_result"
    }
   ],
   "source": [
    "resultado"
   ]
  },
  {
   "cell_type": "markdown",
   "metadata": {},
   "source": [
    "# Output Don José"
   ]
  },
  {
   "cell_type": "code",
   "execution_count": null,
   "metadata": {},
   "outputs": [],
   "source": [
    "# with open('output.json', 'w', encoding='utf-8') as file:\n",
    "#     json.dump(resultado, file, ensure_ascii=False, indent=4)"
   ]
  }
 ],
 "metadata": {
  "kernelspec": {
   "display_name": "Python 3",
   "language": "python",
   "name": "python3"
  },
  "language_info": {
   "codemirror_mode": {
    "name": "ipython",
    "version": 3
   },
   "file_extension": ".py",
   "mimetype": "text/x-python",
   "name": "python",
   "nbconvert_exporter": "python",
   "pygments_lexer": "ipython3",
   "version": "3.12.6"
  }
 },
 "nbformat": 4,
 "nbformat_minor": 2
}
